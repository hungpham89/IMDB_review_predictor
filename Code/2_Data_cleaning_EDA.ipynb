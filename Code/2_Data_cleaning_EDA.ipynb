{
 "cells": [
  {
   "cell_type": "markdown",
   "metadata": {},
   "source": [
    "# Capstone Project: IMDB User Reviews Rating predictor\n",
    "## Hung Pham"
   ]
  },
  {
   "cell_type": "markdown",
   "metadata": {},
   "source": [
    "## Part 2: Data Cleaning and EDA"
   ]
  },
  {
   "cell_type": "markdown",
   "metadata": {},
   "source": [
    "After getting all the individual movie's review files, we can merge them into 1 big combined file to process.  \n",
    "After a few initial experiments, I found out that because I scraped reviews from the top 100 best movies of all time, the scores are heavily skewed as the majority reviewers give 9 or 10 score.  \n",
    "To combat this, I went back to get more reviews, this time scraping from the worst movies, hoping to even the distribution of scores.  \n",
    "These final reviews scraped are stored in three folders:  \n",
    "- top50_raw: Reviews from 50 highest rating movies, with ~1000 reviews each, to a total of 46696 reviews.\n",
    "- bottom50_1_raw: Review from 50 lowest rating movies, the number of reviews each movie are different as bad movies tend to not have many reviews. We get 18002 reviews from them. \n",
    "- bottom50_2_raw: Review from the next 50 lowest rating movies, I decided to get them as well as the first batch didnt have as many reviews as I expected. We get 11033 reviews.\n",
    "\n",
    "In summary, we have around 80k review from 150 movies"
   ]
  },
  {
   "cell_type": "markdown",
   "metadata": {},
   "source": [
    "### 2.1. Preparing data"
   ]
  },
  {
   "cell_type": "markdown",
   "metadata": {},
   "source": [
    "#### 2.1.1. Loading python libraries"
   ]
  },
  {
   "cell_type": "markdown",
   "metadata": {},
   "source": [
    "As usual, the first step is to import all the libraries necessary:"
   ]
  },
  {
   "cell_type": "code",
   "execution_count": 1,
   "metadata": {},
   "outputs": [],
   "source": [
    "#importing basic libraries\n",
    "import pandas as pd\n",
    "import matplotlib.pyplot as plt\n",
    "import numpy as np\n",
    "%matplotlib inline\n",
    "import warnings\n",
    "warnings.filterwarnings('ignore') #Not to display warning\n",
    "import seaborn as sns\n",
    "from collections import Counter"
   ]
  },
  {
   "cell_type": "code",
   "execution_count": 2,
   "metadata": {},
   "outputs": [
    {
     "name": "stderr",
     "output_type": "stream",
     "text": [
      "[nltk_data] Downloading package stopwords to\n",
      "[nltk_data]     C:\\Users\\ngoch\\AppData\\Roaming\\nltk_data...\n",
      "[nltk_data]   Package stopwords is already up-to-date!\n"
     ]
    }
   ],
   "source": [
    "#importing libraries to clean and prepare text data\n",
    "from sklearn.base import BaseEstimator, TransformerMixin\n",
    "from nltk.stem import PorterStemmer\n",
    "import nltk\n",
    "nltk.download('stopwords')\n",
    "import string\n",
    "from nltk.corpus import stopwords\n",
    "import re\n",
    "#importing imblearn library for downsamplint\n",
    "from imblearn.under_sampling import RandomUnderSampler\n",
    "#import joblib to store our clean text model to use later\n",
    "import joblib"
   ]
  },
  {
   "cell_type": "markdown",
   "metadata": {},
   "source": [
    "#### 2.1.2. Combining data"
   ]
  },
  {
   "cell_type": "markdown",
   "metadata": {},
   "source": [
    "As we have 3 separated folders for all the reviews scraped, we will create a function to combine them:"
   ]
  },
  {
   "cell_type": "code",
   "execution_count": 3,
   "metadata": {},
   "outputs": [],
   "source": [
    "def combine_df(file_path):\n",
    "    '''\n",
    "    Combine individual movie's review from separated files into 1 dataframe.\n",
    "    Function took 1 input: file path to containing folder.    \n",
    "    '''\n",
    "    df = pd.read_csv(f'{file_path}/1.csv') #Create a base dataframe from the first movie review file\n",
    "    for i in range(2,51): #we have 50 files in each folder\n",
    "        try: \n",
    "            add = pd.read_csv(f'{file_path}/{i}.csv') #load the next file into new df to concat to main df\n",
    "            df = pd.concat([df,add]) #Concat the rest into main dataframe, ignore the index\n",
    "        except:\n",
    "            continue #Use try and except to ignore and continue in case some file is missing\n",
    "    return df"
   ]
  },
  {
   "cell_type": "markdown",
   "metadata": {},
   "source": [
    "Then we can combine these three into 1 main raw data frame:"
   ]
  },
  {
   "cell_type": "code",
   "execution_count": 4,
   "metadata": {},
   "outputs": [
    {
     "data": {
      "text/html": [
       "<div>\n",
       "<style scoped>\n",
       "    .dataframe tbody tr th:only-of-type {\n",
       "        vertical-align: middle;\n",
       "    }\n",
       "\n",
       "    .dataframe tbody tr th {\n",
       "        vertical-align: top;\n",
       "    }\n",
       "\n",
       "    .dataframe thead th {\n",
       "        text-align: right;\n",
       "    }\n",
       "</style>\n",
       "<table border=\"1\" class=\"dataframe\">\n",
       "  <thead>\n",
       "    <tr style=\"text-align: right;\">\n",
       "      <th></th>\n",
       "      <th>Unnamed: 0</th>\n",
       "      <th>User_name</th>\n",
       "      <th>Review title</th>\n",
       "      <th>Review Rating</th>\n",
       "      <th>Review date</th>\n",
       "      <th>Review_body</th>\n",
       "      <th>Movie_name</th>\n",
       "    </tr>\n",
       "  </thead>\n",
       "  <tbody>\n",
       "    <tr>\n",
       "      <th>0</th>\n",
       "      <td>0</td>\n",
       "      <td>raudafitriani</td>\n",
       "      <td>An experience you'll gonna remember forever.</td>\n",
       "      <td>10/10</td>\n",
       "      <td>24 April 2019</td>\n",
       "      <td>There is no way that I could describe my emoti...</td>\n",
       "      <td>Avengers: Endgame</td>\n",
       "    </tr>\n",
       "    <tr>\n",
       "      <th>1</th>\n",
       "      <td>1</td>\n",
       "      <td>theroo200182</td>\n",
       "      <td>Amazing, but the more I dwell on it the worse ...</td>\n",
       "      <td>6/10</td>\n",
       "      <td>26 April 2019</td>\n",
       "      <td>I have to say, my first reaction walking out o...</td>\n",
       "      <td>Avengers: Endgame</td>\n",
       "    </tr>\n",
       "    <tr>\n",
       "      <th>2</th>\n",
       "      <td>2</td>\n",
       "      <td>ahmetkozan</td>\n",
       "      <td>The End of an Era!</td>\n",
       "      <td>10/10</td>\n",
       "      <td>25 April 2019</td>\n",
       "      <td>After Avengers Infinity War, we waited for the...</td>\n",
       "      <td>Avengers: Endgame</td>\n",
       "    </tr>\n",
       "    <tr>\n",
       "      <th>3</th>\n",
       "      <td>3</td>\n",
       "      <td>larshoeijmans</td>\n",
       "      <td>The ending made all 22 movies worth it</td>\n",
       "      <td>10/10</td>\n",
       "      <td>24 April 2019</td>\n",
       "      <td>If you're going to watch this movie, avoid any...</td>\n",
       "      <td>Avengers: Endgame</td>\n",
       "    </tr>\n",
       "    <tr>\n",
       "      <th>4</th>\n",
       "      <td>4</td>\n",
       "      <td>jerometadena</td>\n",
       "      <td>AWFULL OF MESS</td>\n",
       "      <td>1/10</td>\n",
       "      <td>21 February 2021</td>\n",
       "      <td>Waste of time! Don't watch it, your 3 hourse i...</td>\n",
       "      <td>Avengers: Endgame</td>\n",
       "    </tr>\n",
       "    <tr>\n",
       "      <th>...</th>\n",
       "      <td>...</td>\n",
       "      <td>...</td>\n",
       "      <td>...</td>\n",
       "      <td>...</td>\n",
       "      <td>...</td>\n",
       "      <td>...</td>\n",
       "      <td>...</td>\n",
       "    </tr>\n",
       "    <tr>\n",
       "      <th>75726</th>\n",
       "      <td>12</td>\n",
       "      <td>taseron-1</td>\n",
       "      <td>Litmus paper of Turkish inferiority complex</td>\n",
       "      <td>7/10</td>\n",
       "      <td>5 August 2017</td>\n",
       "      <td>Recep Ivedik is a portray of ordinary Anatolia...</td>\n",
       "      <td>Recep Ivedik 5</td>\n",
       "    </tr>\n",
       "    <tr>\n",
       "      <th>75727</th>\n",
       "      <td>13</td>\n",
       "      <td>torosonce</td>\n",
       "      <td>i laughed so hard in some parts</td>\n",
       "      <td>9/10</td>\n",
       "      <td>10 February 2018</td>\n",
       "      <td>In a absurd comedy movie, why would you think ...</td>\n",
       "      <td>Recep Ivedik 5</td>\n",
       "    </tr>\n",
       "    <tr>\n",
       "      <th>75728</th>\n",
       "      <td>14</td>\n",
       "      <td>filizhusnu</td>\n",
       "      <td>Excellent Movies</td>\n",
       "      <td>10/10</td>\n",
       "      <td>30 December 2017</td>\n",
       "      <td>I Actually found Recep hilariously funny and a...</td>\n",
       "      <td>Recep Ivedik 5</td>\n",
       "    </tr>\n",
       "    <tr>\n",
       "      <th>75729</th>\n",
       "      <td>15</td>\n",
       "      <td>alios_le_ketur</td>\n",
       "      <td>Komik eglenceli</td>\n",
       "      <td>10/10</td>\n",
       "      <td>21 January 2019</td>\n",
       "      <td>Kesinlikle izlemenizi tavsiye ederim hem komik...</td>\n",
       "      <td>Recep Ivedik 5</td>\n",
       "    </tr>\n",
       "    <tr>\n",
       "      <th>75730</th>\n",
       "      <td>16</td>\n",
       "      <td>pooya_h</td>\n",
       "      <td>I you don't know Turkish Don't watch</td>\n",
       "      <td>10/10</td>\n",
       "      <td>7 June 2018</td>\n",
       "      <td>I have seen many comedy movies but none of the...</td>\n",
       "      <td>Recep Ivedik 5</td>\n",
       "    </tr>\n",
       "  </tbody>\n",
       "</table>\n",
       "<p>75731 rows × 7 columns</p>\n",
       "</div>"
      ],
      "text/plain": [
       "       Unnamed: 0       User_name  \\\n",
       "0               0   raudafitriani   \n",
       "1               1    theroo200182   \n",
       "2               2      ahmetkozan   \n",
       "3               3   larshoeijmans   \n",
       "4               4    jerometadena   \n",
       "...           ...             ...   \n",
       "75726          12       taseron-1   \n",
       "75727          13       torosonce   \n",
       "75728          14      filizhusnu   \n",
       "75729          15  alios_le_ketur   \n",
       "75730          16         pooya_h   \n",
       "\n",
       "                                            Review title Review Rating  \\\n",
       "0           An experience you'll gonna remember forever.         10/10   \n",
       "1      Amazing, but the more I dwell on it the worse ...          6/10   \n",
       "2                                     The End of an Era!         10/10   \n",
       "3                 The ending made all 22 movies worth it         10/10   \n",
       "4                                         AWFULL OF MESS          1/10   \n",
       "...                                                  ...           ...   \n",
       "75726        Litmus paper of Turkish inferiority complex          7/10   \n",
       "75727                    i laughed so hard in some parts          9/10   \n",
       "75728                                   Excellent Movies         10/10   \n",
       "75729                                    Komik eglenceli         10/10   \n",
       "75730               I you don't know Turkish Don't watch         10/10   \n",
       "\n",
       "            Review date                                        Review_body  \\\n",
       "0         24 April 2019  There is no way that I could describe my emoti...   \n",
       "1         26 April 2019  I have to say, my first reaction walking out o...   \n",
       "2         25 April 2019  After Avengers Infinity War, we waited for the...   \n",
       "3         24 April 2019  If you're going to watch this movie, avoid any...   \n",
       "4      21 February 2021  Waste of time! Don't watch it, your 3 hourse i...   \n",
       "...                 ...                                                ...   \n",
       "75726     5 August 2017  Recep Ivedik is a portray of ordinary Anatolia...   \n",
       "75727  10 February 2018  In a absurd comedy movie, why would you think ...   \n",
       "75728  30 December 2017  I Actually found Recep hilariously funny and a...   \n",
       "75729   21 January 2019  Kesinlikle izlemenizi tavsiye ederim hem komik...   \n",
       "75730       7 June 2018  I have seen many comedy movies but none of the...   \n",
       "\n",
       "              Movie_name  \n",
       "0      Avengers: Endgame  \n",
       "1      Avengers: Endgame  \n",
       "2      Avengers: Endgame  \n",
       "3      Avengers: Endgame  \n",
       "4      Avengers: Endgame  \n",
       "...                  ...  \n",
       "75726     Recep Ivedik 5  \n",
       "75727     Recep Ivedik 5  \n",
       "75728     Recep Ivedik 5  \n",
       "75729     Recep Ivedik 5  \n",
       "75730     Recep Ivedik 5  \n",
       "\n",
       "[75731 rows x 7 columns]"
      ]
     },
     "execution_count": 4,
     "metadata": {},
     "output_type": "execute_result"
    }
   ],
   "source": [
    "#Using combine_df function to create 3 df for each folder\n",
    "df_top_raw = combine_df('Data/top50_raw')\n",
    "df_bot_raw_1 = combine_df('Data/bottom50_1_raw')\n",
    "df_bot_raw_2 = combine_df('Data/bottom50_2_raw')\n",
    "\n",
    "#Combine them into 1 main df\n",
    "df_raw = pd.concat([df_top_raw,df_bot_raw_1,df_bot_raw_2]).reset_index(drop = True)\n",
    "df_raw"
   ]
  },
  {
   "cell_type": "markdown",
   "metadata": {},
   "source": [
    "There is a column name `Unnamed: 0` which is the left over of the index when we write the scraped dataframe to `csv` file.  \n",
    "We can just drop them without risk."
   ]
  },
  {
   "cell_type": "code",
   "execution_count": 5,
   "metadata": {},
   "outputs": [
    {
     "data": {
      "text/html": [
       "<div>\n",
       "<style scoped>\n",
       "    .dataframe tbody tr th:only-of-type {\n",
       "        vertical-align: middle;\n",
       "    }\n",
       "\n",
       "    .dataframe tbody tr th {\n",
       "        vertical-align: top;\n",
       "    }\n",
       "\n",
       "    .dataframe thead th {\n",
       "        text-align: right;\n",
       "    }\n",
       "</style>\n",
       "<table border=\"1\" class=\"dataframe\">\n",
       "  <thead>\n",
       "    <tr style=\"text-align: right;\">\n",
       "      <th></th>\n",
       "      <th>User_name</th>\n",
       "      <th>Review title</th>\n",
       "      <th>Review Rating</th>\n",
       "      <th>Review date</th>\n",
       "      <th>Review_body</th>\n",
       "      <th>Movie_name</th>\n",
       "    </tr>\n",
       "  </thead>\n",
       "  <tbody>\n",
       "    <tr>\n",
       "      <th>0</th>\n",
       "      <td>raudafitriani</td>\n",
       "      <td>An experience you'll gonna remember forever.</td>\n",
       "      <td>10/10</td>\n",
       "      <td>24 April 2019</td>\n",
       "      <td>There is no way that I could describe my emoti...</td>\n",
       "      <td>Avengers: Endgame</td>\n",
       "    </tr>\n",
       "    <tr>\n",
       "      <th>1</th>\n",
       "      <td>theroo200182</td>\n",
       "      <td>Amazing, but the more I dwell on it the worse ...</td>\n",
       "      <td>6/10</td>\n",
       "      <td>26 April 2019</td>\n",
       "      <td>I have to say, my first reaction walking out o...</td>\n",
       "      <td>Avengers: Endgame</td>\n",
       "    </tr>\n",
       "    <tr>\n",
       "      <th>2</th>\n",
       "      <td>ahmetkozan</td>\n",
       "      <td>The End of an Era!</td>\n",
       "      <td>10/10</td>\n",
       "      <td>25 April 2019</td>\n",
       "      <td>After Avengers Infinity War, we waited for the...</td>\n",
       "      <td>Avengers: Endgame</td>\n",
       "    </tr>\n",
       "    <tr>\n",
       "      <th>3</th>\n",
       "      <td>larshoeijmans</td>\n",
       "      <td>The ending made all 22 movies worth it</td>\n",
       "      <td>10/10</td>\n",
       "      <td>24 April 2019</td>\n",
       "      <td>If you're going to watch this movie, avoid any...</td>\n",
       "      <td>Avengers: Endgame</td>\n",
       "    </tr>\n",
       "    <tr>\n",
       "      <th>4</th>\n",
       "      <td>jerometadena</td>\n",
       "      <td>AWFULL OF MESS</td>\n",
       "      <td>1/10</td>\n",
       "      <td>21 February 2021</td>\n",
       "      <td>Waste of time! Don't watch it, your 3 hourse i...</td>\n",
       "      <td>Avengers: Endgame</td>\n",
       "    </tr>\n",
       "    <tr>\n",
       "      <th>...</th>\n",
       "      <td>...</td>\n",
       "      <td>...</td>\n",
       "      <td>...</td>\n",
       "      <td>...</td>\n",
       "      <td>...</td>\n",
       "      <td>...</td>\n",
       "    </tr>\n",
       "    <tr>\n",
       "      <th>75726</th>\n",
       "      <td>taseron-1</td>\n",
       "      <td>Litmus paper of Turkish inferiority complex</td>\n",
       "      <td>7/10</td>\n",
       "      <td>5 August 2017</td>\n",
       "      <td>Recep Ivedik is a portray of ordinary Anatolia...</td>\n",
       "      <td>Recep Ivedik 5</td>\n",
       "    </tr>\n",
       "    <tr>\n",
       "      <th>75727</th>\n",
       "      <td>torosonce</td>\n",
       "      <td>i laughed so hard in some parts</td>\n",
       "      <td>9/10</td>\n",
       "      <td>10 February 2018</td>\n",
       "      <td>In a absurd comedy movie, why would you think ...</td>\n",
       "      <td>Recep Ivedik 5</td>\n",
       "    </tr>\n",
       "    <tr>\n",
       "      <th>75728</th>\n",
       "      <td>filizhusnu</td>\n",
       "      <td>Excellent Movies</td>\n",
       "      <td>10/10</td>\n",
       "      <td>30 December 2017</td>\n",
       "      <td>I Actually found Recep hilariously funny and a...</td>\n",
       "      <td>Recep Ivedik 5</td>\n",
       "    </tr>\n",
       "    <tr>\n",
       "      <th>75729</th>\n",
       "      <td>alios_le_ketur</td>\n",
       "      <td>Komik eglenceli</td>\n",
       "      <td>10/10</td>\n",
       "      <td>21 January 2019</td>\n",
       "      <td>Kesinlikle izlemenizi tavsiye ederim hem komik...</td>\n",
       "      <td>Recep Ivedik 5</td>\n",
       "    </tr>\n",
       "    <tr>\n",
       "      <th>75730</th>\n",
       "      <td>pooya_h</td>\n",
       "      <td>I you don't know Turkish Don't watch</td>\n",
       "      <td>10/10</td>\n",
       "      <td>7 June 2018</td>\n",
       "      <td>I have seen many comedy movies but none of the...</td>\n",
       "      <td>Recep Ivedik 5</td>\n",
       "    </tr>\n",
       "  </tbody>\n",
       "</table>\n",
       "<p>75731 rows × 6 columns</p>\n",
       "</div>"
      ],
      "text/plain": [
       "            User_name                                       Review title  \\\n",
       "0       raudafitriani       An experience you'll gonna remember forever.   \n",
       "1        theroo200182  Amazing, but the more I dwell on it the worse ...   \n",
       "2          ahmetkozan                                 The End of an Era!   \n",
       "3       larshoeijmans             The ending made all 22 movies worth it   \n",
       "4        jerometadena                                     AWFULL OF MESS   \n",
       "...               ...                                                ...   \n",
       "75726       taseron-1        Litmus paper of Turkish inferiority complex   \n",
       "75727       torosonce                    i laughed so hard in some parts   \n",
       "75728      filizhusnu                                   Excellent Movies   \n",
       "75729  alios_le_ketur                                    Komik eglenceli   \n",
       "75730         pooya_h               I you don't know Turkish Don't watch   \n",
       "\n",
       "      Review Rating       Review date  \\\n",
       "0             10/10     24 April 2019   \n",
       "1              6/10     26 April 2019   \n",
       "2             10/10     25 April 2019   \n",
       "3             10/10     24 April 2019   \n",
       "4              1/10  21 February 2021   \n",
       "...             ...               ...   \n",
       "75726          7/10     5 August 2017   \n",
       "75727          9/10  10 February 2018   \n",
       "75728         10/10  30 December 2017   \n",
       "75729         10/10   21 January 2019   \n",
       "75730         10/10       7 June 2018   \n",
       "\n",
       "                                             Review_body         Movie_name  \n",
       "0      There is no way that I could describe my emoti...  Avengers: Endgame  \n",
       "1      I have to say, my first reaction walking out o...  Avengers: Endgame  \n",
       "2      After Avengers Infinity War, we waited for the...  Avengers: Endgame  \n",
       "3      If you're going to watch this movie, avoid any...  Avengers: Endgame  \n",
       "4      Waste of time! Don't watch it, your 3 hourse i...  Avengers: Endgame  \n",
       "...                                                  ...                ...  \n",
       "75726  Recep Ivedik is a portray of ordinary Anatolia...     Recep Ivedik 5  \n",
       "75727  In a absurd comedy movie, why would you think ...     Recep Ivedik 5  \n",
       "75728  I Actually found Recep hilariously funny and a...     Recep Ivedik 5  \n",
       "75729  Kesinlikle izlemenizi tavsiye ederim hem komik...     Recep Ivedik 5  \n",
       "75730  I have seen many comedy movies but none of the...     Recep Ivedik 5  \n",
       "\n",
       "[75731 rows x 6 columns]"
      ]
     },
     "execution_count": 5,
     "metadata": {},
     "output_type": "execute_result"
    }
   ],
   "source": [
    "df_raw = df_raw.drop('Unnamed: 0', axis = 1) \n",
    "df_raw"
   ]
  },
  {
   "cell_type": "markdown",
   "metadata": {},
   "source": [
    "#### 2.1.3. Cleaning data"
   ]
  },
  {
   "cell_type": "markdown",
   "metadata": {},
   "source": [
    "First thing we see is our columns' name has different format (some has space instead of underscore '_', or random upper case), let's convert them to a uniform format.   \n",
    "This step seem nitpick at first, but consistent format of columns' name will have us prevent mistyping the name later and save quite sometime."
   ]
  },
  {
   "cell_type": "code",
   "execution_count": 6,
   "metadata": {},
   "outputs": [],
   "source": [
    "df_raw.columns = ['User_name', 'Review_title', 'Review_rating', 'Review_date',\n",
    "       'Review_body', 'Movie_name']"
   ]
  },
  {
   "cell_type": "markdown",
   "metadata": {},
   "source": [
    "As we already setup some failsafes to prevent getting missing data in the scraping step, we can expect that the duplicated and missing data should be at minimum."
   ]
  },
  {
   "cell_type": "markdown",
   "metadata": {},
   "source": [
    "Let's check to see if we have any duplicated rows:"
   ]
  },
  {
   "cell_type": "code",
   "execution_count": 7,
   "metadata": {},
   "outputs": [
    {
     "name": "stdout",
     "output_type": "stream",
     "text": [
      "The number of duplicated rows is: 0 rows\n"
     ]
    }
   ],
   "source": [
    "print(f'The number of duplicated rows is: {df_raw.duplicated().sum()} rows')"
   ]
  },
  {
   "cell_type": "markdown",
   "metadata": {},
   "source": [
    "Next is missing values"
   ]
  },
  {
   "cell_type": "code",
   "execution_count": 8,
   "metadata": {},
   "outputs": [
    {
     "data": {
      "text/plain": [
       "User_name        0\n",
       "Review_title     1\n",
       "Review_rating    0\n",
       "Review_date      0\n",
       "Review_body      0\n",
       "Movie_name       0\n",
       "dtype: int64"
      ]
     },
     "execution_count": 8,
     "metadata": {},
     "output_type": "execute_result"
    }
   ],
   "source": [
    "df_raw.isnull().sum()"
   ]
  },
  {
   "cell_type": "markdown",
   "metadata": {},
   "source": [
    "That's strange, as we have a specific rule to bypass a review block if it has missing value. \n",
    "Let's check further to see what review is it:"
   ]
  },
  {
   "cell_type": "code",
   "execution_count": 9,
   "metadata": {},
   "outputs": [
    {
     "data": {
      "text/html": [
       "<div>\n",
       "<style scoped>\n",
       "    .dataframe tbody tr th:only-of-type {\n",
       "        vertical-align: middle;\n",
       "    }\n",
       "\n",
       "    .dataframe tbody tr th {\n",
       "        vertical-align: top;\n",
       "    }\n",
       "\n",
       "    .dataframe thead th {\n",
       "        text-align: right;\n",
       "    }\n",
       "</style>\n",
       "<table border=\"1\" class=\"dataframe\">\n",
       "  <thead>\n",
       "    <tr style=\"text-align: right;\">\n",
       "      <th></th>\n",
       "      <th>User_name</th>\n",
       "      <th>Review_title</th>\n",
       "      <th>Review_rating</th>\n",
       "      <th>Review_date</th>\n",
       "      <th>Review_body</th>\n",
       "      <th>Movie_name</th>\n",
       "    </tr>\n",
       "  </thead>\n",
       "  <tbody>\n",
       "    <tr>\n",
       "      <th>56603</th>\n",
       "      <td>undeadhaiena</td>\n",
       "      <td>NaN</td>\n",
       "      <td>1/10</td>\n",
       "      <td>11 June 2019</td>\n",
       "      <td>The Super Soldier Serum didnt do anything. The...</td>\n",
       "      <td>Captain America</td>\n",
       "    </tr>\n",
       "  </tbody>\n",
       "</table>\n",
       "</div>"
      ],
      "text/plain": [
       "          User_name Review_title Review_rating   Review_date  \\\n",
       "56603  undeadhaiena          NaN          1/10  11 June 2019   \n",
       "\n",
       "                                             Review_body       Movie_name  \n",
       "56603  The Super Soldier Serum didnt do anything. The...  Captain America  "
      ]
     },
     "execution_count": 9,
     "metadata": {},
     "output_type": "execute_result"
    }
   ],
   "source": [
    "df_raw[df_raw['Review_title'].isnull() == True]"
   ]
  },
  {
   "cell_type": "markdown",
   "metadata": {},
   "source": [
    "I went to the website to check this [review](https://www.imdb.com/review/rw4927552/?ref_=tt_urv) and found out the reason why. The reviewer indeed put a `n/a` word into the review title, so BS4 has no problem grabbing it, but pandas yielded an error.  \n",
    "I decided to just remove it, as it just 1 out of ~80k reviews and won't make a difference.  \n",
    "\n",
    "*Fun note*: The movies is 1990 version of Caption America, the reviewer left a review in 2019, almost 30 years later and complained about special effects ^_^."
   ]
  },
  {
   "cell_type": "code",
   "execution_count": 10,
   "metadata": {},
   "outputs": [
    {
     "data": {
      "text/html": [
       "<div>\n",
       "<style scoped>\n",
       "    .dataframe tbody tr th:only-of-type {\n",
       "        vertical-align: middle;\n",
       "    }\n",
       "\n",
       "    .dataframe tbody tr th {\n",
       "        vertical-align: top;\n",
       "    }\n",
       "\n",
       "    .dataframe thead th {\n",
       "        text-align: right;\n",
       "    }\n",
       "</style>\n",
       "<table border=\"1\" class=\"dataframe\">\n",
       "  <thead>\n",
       "    <tr style=\"text-align: right;\">\n",
       "      <th></th>\n",
       "      <th>User_name</th>\n",
       "      <th>Review_title</th>\n",
       "      <th>Review_rating</th>\n",
       "      <th>Review_date</th>\n",
       "      <th>Review_body</th>\n",
       "      <th>Movie_name</th>\n",
       "    </tr>\n",
       "  </thead>\n",
       "  <tbody>\n",
       "    <tr>\n",
       "      <th>0</th>\n",
       "      <td>raudafitriani</td>\n",
       "      <td>An experience you'll gonna remember forever.</td>\n",
       "      <td>10/10</td>\n",
       "      <td>24 April 2019</td>\n",
       "      <td>There is no way that I could describe my emoti...</td>\n",
       "      <td>Avengers: Endgame</td>\n",
       "    </tr>\n",
       "    <tr>\n",
       "      <th>1</th>\n",
       "      <td>theroo200182</td>\n",
       "      <td>Amazing, but the more I dwell on it the worse ...</td>\n",
       "      <td>6/10</td>\n",
       "      <td>26 April 2019</td>\n",
       "      <td>I have to say, my first reaction walking out o...</td>\n",
       "      <td>Avengers: Endgame</td>\n",
       "    </tr>\n",
       "    <tr>\n",
       "      <th>2</th>\n",
       "      <td>ahmetkozan</td>\n",
       "      <td>The End of an Era!</td>\n",
       "      <td>10/10</td>\n",
       "      <td>25 April 2019</td>\n",
       "      <td>After Avengers Infinity War, we waited for the...</td>\n",
       "      <td>Avengers: Endgame</td>\n",
       "    </tr>\n",
       "    <tr>\n",
       "      <th>3</th>\n",
       "      <td>larshoeijmans</td>\n",
       "      <td>The ending made all 22 movies worth it</td>\n",
       "      <td>10/10</td>\n",
       "      <td>24 April 2019</td>\n",
       "      <td>If you're going to watch this movie, avoid any...</td>\n",
       "      <td>Avengers: Endgame</td>\n",
       "    </tr>\n",
       "    <tr>\n",
       "      <th>4</th>\n",
       "      <td>jerometadena</td>\n",
       "      <td>AWFULL OF MESS</td>\n",
       "      <td>1/10</td>\n",
       "      <td>21 February 2021</td>\n",
       "      <td>Waste of time! Don't watch it, your 3 hourse i...</td>\n",
       "      <td>Avengers: Endgame</td>\n",
       "    </tr>\n",
       "    <tr>\n",
       "      <th>...</th>\n",
       "      <td>...</td>\n",
       "      <td>...</td>\n",
       "      <td>...</td>\n",
       "      <td>...</td>\n",
       "      <td>...</td>\n",
       "      <td>...</td>\n",
       "    </tr>\n",
       "    <tr>\n",
       "      <th>75726</th>\n",
       "      <td>taseron-1</td>\n",
       "      <td>Litmus paper of Turkish inferiority complex</td>\n",
       "      <td>7/10</td>\n",
       "      <td>5 August 2017</td>\n",
       "      <td>Recep Ivedik is a portray of ordinary Anatolia...</td>\n",
       "      <td>Recep Ivedik 5</td>\n",
       "    </tr>\n",
       "    <tr>\n",
       "      <th>75727</th>\n",
       "      <td>torosonce</td>\n",
       "      <td>i laughed so hard in some parts</td>\n",
       "      <td>9/10</td>\n",
       "      <td>10 February 2018</td>\n",
       "      <td>In a absurd comedy movie, why would you think ...</td>\n",
       "      <td>Recep Ivedik 5</td>\n",
       "    </tr>\n",
       "    <tr>\n",
       "      <th>75728</th>\n",
       "      <td>filizhusnu</td>\n",
       "      <td>Excellent Movies</td>\n",
       "      <td>10/10</td>\n",
       "      <td>30 December 2017</td>\n",
       "      <td>I Actually found Recep hilariously funny and a...</td>\n",
       "      <td>Recep Ivedik 5</td>\n",
       "    </tr>\n",
       "    <tr>\n",
       "      <th>75729</th>\n",
       "      <td>alios_le_ketur</td>\n",
       "      <td>Komik eglenceli</td>\n",
       "      <td>10/10</td>\n",
       "      <td>21 January 2019</td>\n",
       "      <td>Kesinlikle izlemenizi tavsiye ederim hem komik...</td>\n",
       "      <td>Recep Ivedik 5</td>\n",
       "    </tr>\n",
       "    <tr>\n",
       "      <th>75730</th>\n",
       "      <td>pooya_h</td>\n",
       "      <td>I you don't know Turkish Don't watch</td>\n",
       "      <td>10/10</td>\n",
       "      <td>7 June 2018</td>\n",
       "      <td>I have seen many comedy movies but none of the...</td>\n",
       "      <td>Recep Ivedik 5</td>\n",
       "    </tr>\n",
       "  </tbody>\n",
       "</table>\n",
       "<p>75730 rows × 6 columns</p>\n",
       "</div>"
      ],
      "text/plain": [
       "            User_name                                       Review_title  \\\n",
       "0       raudafitriani       An experience you'll gonna remember forever.   \n",
       "1        theroo200182  Amazing, but the more I dwell on it the worse ...   \n",
       "2          ahmetkozan                                 The End of an Era!   \n",
       "3       larshoeijmans             The ending made all 22 movies worth it   \n",
       "4        jerometadena                                     AWFULL OF MESS   \n",
       "...               ...                                                ...   \n",
       "75726       taseron-1        Litmus paper of Turkish inferiority complex   \n",
       "75727       torosonce                    i laughed so hard in some parts   \n",
       "75728      filizhusnu                                   Excellent Movies   \n",
       "75729  alios_le_ketur                                    Komik eglenceli   \n",
       "75730         pooya_h               I you don't know Turkish Don't watch   \n",
       "\n",
       "      Review_rating       Review_date  \\\n",
       "0             10/10     24 April 2019   \n",
       "1              6/10     26 April 2019   \n",
       "2             10/10     25 April 2019   \n",
       "3             10/10     24 April 2019   \n",
       "4              1/10  21 February 2021   \n",
       "...             ...               ...   \n",
       "75726          7/10     5 August 2017   \n",
       "75727          9/10  10 February 2018   \n",
       "75728         10/10  30 December 2017   \n",
       "75729         10/10   21 January 2019   \n",
       "75730         10/10       7 June 2018   \n",
       "\n",
       "                                             Review_body         Movie_name  \n",
       "0      There is no way that I could describe my emoti...  Avengers: Endgame  \n",
       "1      I have to say, my first reaction walking out o...  Avengers: Endgame  \n",
       "2      After Avengers Infinity War, we waited for the...  Avengers: Endgame  \n",
       "3      If you're going to watch this movie, avoid any...  Avengers: Endgame  \n",
       "4      Waste of time! Don't watch it, your 3 hourse i...  Avengers: Endgame  \n",
       "...                                                  ...                ...  \n",
       "75726  Recep Ivedik is a portray of ordinary Anatolia...     Recep Ivedik 5  \n",
       "75727  In a absurd comedy movie, why would you think ...     Recep Ivedik 5  \n",
       "75728  I Actually found Recep hilariously funny and a...     Recep Ivedik 5  \n",
       "75729  Kesinlikle izlemenizi tavsiye ederim hem komik...     Recep Ivedik 5  \n",
       "75730  I have seen many comedy movies but none of the...     Recep Ivedik 5  \n",
       "\n",
       "[75730 rows x 6 columns]"
      ]
     },
     "execution_count": 10,
     "metadata": {},
     "output_type": "execute_result"
    }
   ],
   "source": [
    "df_raw.dropna(inplace = True) #drop the missing data row and save the change\n",
    "df_raw"
   ]
  },
  {
   "cell_type": "markdown",
   "metadata": {},
   "source": [
    "We can check the data types of the columns:"
   ]
  },
  {
   "cell_type": "code",
   "execution_count": 11,
   "metadata": {},
   "outputs": [
    {
     "name": "stdout",
     "output_type": "stream",
     "text": [
      "<class 'pandas.core.frame.DataFrame'>\n",
      "Int64Index: 75730 entries, 0 to 75730\n",
      "Data columns (total 6 columns):\n",
      " #   Column         Non-Null Count  Dtype \n",
      "---  ------         --------------  ----- \n",
      " 0   User_name      75730 non-null  object\n",
      " 1   Review_title   75730 non-null  object\n",
      " 2   Review_rating  75730 non-null  object\n",
      " 3   Review_date    75730 non-null  object\n",
      " 4   Review_body    75730 non-null  object\n",
      " 5   Movie_name     75730 non-null  object\n",
      "dtypes: object(6)\n",
      "memory usage: 4.0+ MB\n"
     ]
    }
   ],
   "source": [
    "df_raw.info()"
   ]
  },
  {
   "cell_type": "markdown",
   "metadata": {},
   "source": [
    "`Review_rating` is our target column here, we will need to convert it to numeric format:"
   ]
  },
  {
   "cell_type": "code",
   "execution_count": 12,
   "metadata": {},
   "outputs": [
    {
     "data": {
      "text/html": [
       "<div>\n",
       "<style scoped>\n",
       "    .dataframe tbody tr th:only-of-type {\n",
       "        vertical-align: middle;\n",
       "    }\n",
       "\n",
       "    .dataframe tbody tr th {\n",
       "        vertical-align: top;\n",
       "    }\n",
       "\n",
       "    .dataframe thead th {\n",
       "        text-align: right;\n",
       "    }\n",
       "</style>\n",
       "<table border=\"1\" class=\"dataframe\">\n",
       "  <thead>\n",
       "    <tr style=\"text-align: right;\">\n",
       "      <th></th>\n",
       "      <th>User_name</th>\n",
       "      <th>Review_title</th>\n",
       "      <th>Review_rating</th>\n",
       "      <th>Review_date</th>\n",
       "      <th>Review_body</th>\n",
       "      <th>Movie_name</th>\n",
       "    </tr>\n",
       "  </thead>\n",
       "  <tbody>\n",
       "    <tr>\n",
       "      <th>0</th>\n",
       "      <td>raudafitriani</td>\n",
       "      <td>An experience you'll gonna remember forever.</td>\n",
       "      <td>10</td>\n",
       "      <td>2019-04-24</td>\n",
       "      <td>There is no way that I could describe my emoti...</td>\n",
       "      <td>Avengers: Endgame</td>\n",
       "    </tr>\n",
       "    <tr>\n",
       "      <th>1</th>\n",
       "      <td>theroo200182</td>\n",
       "      <td>Amazing, but the more I dwell on it the worse ...</td>\n",
       "      <td>6</td>\n",
       "      <td>2019-04-26</td>\n",
       "      <td>I have to say, my first reaction walking out o...</td>\n",
       "      <td>Avengers: Endgame</td>\n",
       "    </tr>\n",
       "    <tr>\n",
       "      <th>2</th>\n",
       "      <td>ahmetkozan</td>\n",
       "      <td>The End of an Era!</td>\n",
       "      <td>10</td>\n",
       "      <td>2019-04-25</td>\n",
       "      <td>After Avengers Infinity War, we waited for the...</td>\n",
       "      <td>Avengers: Endgame</td>\n",
       "    </tr>\n",
       "    <tr>\n",
       "      <th>3</th>\n",
       "      <td>larshoeijmans</td>\n",
       "      <td>The ending made all 22 movies worth it</td>\n",
       "      <td>10</td>\n",
       "      <td>2019-04-24</td>\n",
       "      <td>If you're going to watch this movie, avoid any...</td>\n",
       "      <td>Avengers: Endgame</td>\n",
       "    </tr>\n",
       "    <tr>\n",
       "      <th>4</th>\n",
       "      <td>jerometadena</td>\n",
       "      <td>AWFULL OF MESS</td>\n",
       "      <td>1</td>\n",
       "      <td>2021-02-21</td>\n",
       "      <td>Waste of time! Don't watch it, your 3 hourse i...</td>\n",
       "      <td>Avengers: Endgame</td>\n",
       "    </tr>\n",
       "    <tr>\n",
       "      <th>...</th>\n",
       "      <td>...</td>\n",
       "      <td>...</td>\n",
       "      <td>...</td>\n",
       "      <td>...</td>\n",
       "      <td>...</td>\n",
       "      <td>...</td>\n",
       "    </tr>\n",
       "    <tr>\n",
       "      <th>75726</th>\n",
       "      <td>taseron-1</td>\n",
       "      <td>Litmus paper of Turkish inferiority complex</td>\n",
       "      <td>7</td>\n",
       "      <td>2017-08-05</td>\n",
       "      <td>Recep Ivedik is a portray of ordinary Anatolia...</td>\n",
       "      <td>Recep Ivedik 5</td>\n",
       "    </tr>\n",
       "    <tr>\n",
       "      <th>75727</th>\n",
       "      <td>torosonce</td>\n",
       "      <td>i laughed so hard in some parts</td>\n",
       "      <td>9</td>\n",
       "      <td>2018-02-10</td>\n",
       "      <td>In a absurd comedy movie, why would you think ...</td>\n",
       "      <td>Recep Ivedik 5</td>\n",
       "    </tr>\n",
       "    <tr>\n",
       "      <th>75728</th>\n",
       "      <td>filizhusnu</td>\n",
       "      <td>Excellent Movies</td>\n",
       "      <td>10</td>\n",
       "      <td>2017-12-30</td>\n",
       "      <td>I Actually found Recep hilariously funny and a...</td>\n",
       "      <td>Recep Ivedik 5</td>\n",
       "    </tr>\n",
       "    <tr>\n",
       "      <th>75729</th>\n",
       "      <td>alios_le_ketur</td>\n",
       "      <td>Komik eglenceli</td>\n",
       "      <td>10</td>\n",
       "      <td>2019-01-21</td>\n",
       "      <td>Kesinlikle izlemenizi tavsiye ederim hem komik...</td>\n",
       "      <td>Recep Ivedik 5</td>\n",
       "    </tr>\n",
       "    <tr>\n",
       "      <th>75730</th>\n",
       "      <td>pooya_h</td>\n",
       "      <td>I you don't know Turkish Don't watch</td>\n",
       "      <td>10</td>\n",
       "      <td>2018-06-07</td>\n",
       "      <td>I have seen many comedy movies but none of the...</td>\n",
       "      <td>Recep Ivedik 5</td>\n",
       "    </tr>\n",
       "  </tbody>\n",
       "</table>\n",
       "<p>75730 rows × 6 columns</p>\n",
       "</div>"
      ],
      "text/plain": [
       "            User_name                                       Review_title  \\\n",
       "0       raudafitriani       An experience you'll gonna remember forever.   \n",
       "1        theroo200182  Amazing, but the more I dwell on it the worse ...   \n",
       "2          ahmetkozan                                 The End of an Era!   \n",
       "3       larshoeijmans             The ending made all 22 movies worth it   \n",
       "4        jerometadena                                     AWFULL OF MESS   \n",
       "...               ...                                                ...   \n",
       "75726       taseron-1        Litmus paper of Turkish inferiority complex   \n",
       "75727       torosonce                    i laughed so hard in some parts   \n",
       "75728      filizhusnu                                   Excellent Movies   \n",
       "75729  alios_le_ketur                                    Komik eglenceli   \n",
       "75730         pooya_h               I you don't know Turkish Don't watch   \n",
       "\n",
       "       Review_rating Review_date  \\\n",
       "0                 10  2019-04-24   \n",
       "1                  6  2019-04-26   \n",
       "2                 10  2019-04-25   \n",
       "3                 10  2019-04-24   \n",
       "4                  1  2021-02-21   \n",
       "...              ...         ...   \n",
       "75726              7  2017-08-05   \n",
       "75727              9  2018-02-10   \n",
       "75728             10  2017-12-30   \n",
       "75729             10  2019-01-21   \n",
       "75730             10  2018-06-07   \n",
       "\n",
       "                                             Review_body         Movie_name  \n",
       "0      There is no way that I could describe my emoti...  Avengers: Endgame  \n",
       "1      I have to say, my first reaction walking out o...  Avengers: Endgame  \n",
       "2      After Avengers Infinity War, we waited for the...  Avengers: Endgame  \n",
       "3      If you're going to watch this movie, avoid any...  Avengers: Endgame  \n",
       "4      Waste of time! Don't watch it, your 3 hourse i...  Avengers: Endgame  \n",
       "...                                                  ...                ...  \n",
       "75726  Recep Ivedik is a portray of ordinary Anatolia...     Recep Ivedik 5  \n",
       "75727  In a absurd comedy movie, why would you think ...     Recep Ivedik 5  \n",
       "75728  I Actually found Recep hilariously funny and a...     Recep Ivedik 5  \n",
       "75729  Kesinlikle izlemenizi tavsiye ederim hem komik...     Recep Ivedik 5  \n",
       "75730  I have seen many comedy movies but none of the...     Recep Ivedik 5  \n",
       "\n",
       "[75730 rows x 6 columns]"
      ]
     },
     "execution_count": 12,
     "metadata": {},
     "output_type": "execute_result"
    }
   ],
   "source": [
    "#Using the `/` to split `Review_rating` column \n",
    "df_raw[['Review_rating','temp']] = df_raw['Review_rating'].str.split(pat = '/', expand = True)\n",
    "#drop the newly created `temp` column\n",
    "df_raw.drop('temp', axis=1, inplace=True)\n",
    "#convert `Review_rating` from str to int \n",
    "df_raw['Review_rating'] = df_raw['Review_rating'].astype('int8')\n",
    "#One more thing we can do is to convert the `Reveiw_date` column into datetime format.\n",
    "df_raw['Review_date'] = pd.to_datetime(df_raw['Review_date'])\n",
    "df_raw"
   ]
  },
  {
   "cell_type": "markdown",
   "metadata": {},
   "source": [
    "With that, we have out complete dataframe."
   ]
  },
  {
   "cell_type": "markdown",
   "metadata": {},
   "source": [
    "### 2.2. EDA"
   ]
  },
  {
   "cell_type": "markdown",
   "metadata": {},
   "source": [
    "#### 2.2.1. Review_rating distribution"
   ]
  },
  {
   "cell_type": "markdown",
   "metadata": {},
   "source": [
    "With that, let's check the distribution of the rating score:"
   ]
  },
  {
   "cell_type": "code",
   "execution_count": 13,
   "metadata": {},
   "outputs": [
    {
     "data": {
      "image/png": "[encoded data removed]",
      "text/plain": [
       "<Figure size 576x432 with 1 Axes>"
      ]
     },
     "metadata": {
      "needs_background": "light"
     },
     "output_type": "display_data"
    }
   ],
   "source": [
    "plt.figure(figsize = (8,6))\n",
    "sns.countplot(df_raw['Review_rating'], color = 'tab:blue')\n",
    "plt.title('Distribution of Rating Score')\n",
    "plt.show()"
   ]
  },
  {
   "cell_type": "markdown",
   "metadata": {},
   "source": [
    "That's not what we expected, grabbing more review from bad movies only balance the the `1` score, everything else still appear much less than the 2 dominant classes. We will have to deal with them later."
   ]
  },
  {
   "cell_type": "markdown",
   "metadata": {},
   "source": [
    "##### 2.2.2. Comments count over time"
   ]
  },
  {
   "cell_type": "markdown",
   "metadata": {},
   "source": [
    "Let's check the popularity of these movies over the years:"
   ]
  },
  {
   "cell_type": "code",
   "execution_count": 14,
   "metadata": {},
   "outputs": [],
   "source": [
    "df_raw['year'] = df_raw['Review_date'].dt.to_period('y') #Create new column by extracting the year in the review date\n",
    "df_raw_by_year = df_raw.groupby('year')[['Review_rating']].count() #count the number of reviews by year and save as new colum\n",
    "df_raw_by_year = df_raw_by_year.reset_index() #reset the index\n",
    "df_raw_by_year.columns = ['year', 'Review_count'] #Change the name of the columns"
   ]
  },
  {
   "cell_type": "code",
   "execution_count": 15,
   "metadata": {},
   "outputs": [
    {
     "data": {
      "image/png": "[encoded data removed]",
      "text/plain": [
       "<Figure size 1008x504 with 1 Axes>"
      ]
     },
     "metadata": {
      "needs_background": "light"
     },
     "output_type": "display_data"
    }
   ],
   "source": [
    "#plot the review count over the years\n",
    "plt.figure(figsize = (14,7))\n",
    "plt.plot(df_raw_by_year['year'].astype(str), #Convert data type of `year` column to str\n",
    "         df_raw_by_year['Review_count']) # it's actually the number of reviews sum up for each year\n",
    "plt.xlabel('Year')\n",
    "plt.ylabel('Review count')\n",
    "plt.title('Review count over the years')\n",
    "plt.show()"
   ]
  },
  {
   "cell_type": "markdown",
   "metadata": {},
   "source": [
    "One quick speculation here is that the number of reviews over the years for these movies are quite consistent, except in 2020 when it jumped almost 3 times the normal amount. Probably due to the pandemic and a lot of people has to stay home and watch movies."
   ]
  },
  {
   "cell_type": "markdown",
   "metadata": {},
   "source": [
    "#### 2.2.3. Cleaning and Stemming text"
   ]
  },
  {
   "cell_type": "markdown",
   "metadata": {},
   "source": [
    "In order to analyzing the text properly, we need to clean them first with several step, e.g. make them all lower case, remove number, remove stop words, remove punctuation and stemming the words.  \n",
    "For this, we will define a new class to and it's method to clean our text data:"
   ]
  },
  {
   "cell_type": "code",
   "execution_count": 16,
   "metadata": {},
   "outputs": [],
   "source": [
    "class CleanText(BaseEstimator, TransformerMixin):\n",
    "    '''\n",
    "    Define class and method to clean text data to prepare for vectorizer.\n",
    "    Reference: Copied from 'https://towardsdatascience.com/sentiment-analysis-with-text-mining-13dd2b33de27'\n",
    "    Note: There is some slight modification to fit my project\n",
    "    \n",
    "    '''\n",
    "   \n",
    "    def remove_punctuation(self, input_text):\n",
    "        # Make translation table\n",
    "        punct = string.punctuation\n",
    "        trantab = str.maketrans(punct, len(punct)*' ')  # Every punctuation symbol will be replaced by a space\n",
    "        return input_text.translate(trantab)\n",
    "    \n",
    "    def remove_digits(self, input_text):\n",
    "        return re.sub('\\d+', '', input_text)\n",
    "    \n",
    "    def to_lower(self, input_text):\n",
    "        return input_text.lower()\n",
    "    \n",
    "    def remove_stopwords(self, input_text):\n",
    "        stopwords_list = stopwords.words('english')\n",
    "        # Some words which might indicate a certain sentiment are kept via a whitelist\n",
    "        whitelist = [\"n't\", \"not\", \"no\"]\n",
    "        words = input_text.split() \n",
    "        clean_words = [word for word in words if (word not in stopwords_list or word in whitelist) and len(word) > 1] \n",
    "        return \" \".join(clean_words) \n",
    "    \n",
    "    def stemming(self, input_text):\n",
    "        porter = PorterStemmer() #Using PorterStemmer as stemming method\n",
    "        words = input_text.split() \n",
    "        stemmed_words = [porter.stem(word) for word in words]\n",
    "        return \" \".join(stemmed_words)\n",
    "    \n",
    "    def fit(self, X, y=None, **fit_params):\n",
    "        return self\n",
    "    \n",
    "    def transform(self, X, **transform_params):\n",
    "        clean_X = X.apply(self.remove_punctuation).apply(self.remove_digits).apply(self.to_lower).apply(self.remove_stopwords).apply(self.stemming)\n",
    "        return clean_X"
   ]
  },
  {
   "cell_type": "markdown",
   "metadata": {},
   "source": [
    "We can now use it to clean out body text now, which is the data we will use to perform prediction:"
   ]
  },
  {
   "cell_type": "code",
   "execution_count": 17,
   "metadata": {},
   "outputs": [],
   "source": [
    "#Instantiate the class method\n",
    "clean = CleanText()\n",
    "#Fit and transform `Review_body` column\n",
    "body = clean.fit_transform(df_raw['Review_body'])"
   ]
  },
  {
   "cell_type": "code",
   "execution_count": null,
   "metadata": {},
   "outputs": [],
   "source": [
    "#export cleantext method to a joblib file for our webapp\n",
    "joblib.dump(clean, 'clean_text.joblib')"
   ]
  },
  {
   "cell_type": "markdown",
   "metadata": {},
   "source": [
    "After cleaning, we can do some quick observations. Let's see what is the most common words in our data and plot them out:"
   ]
  },
  {
   "cell_type": "code",
   "execution_count": 18,
   "metadata": {},
   "outputs": [],
   "source": [
    "#We can then use count the most common words in our copus\n",
    "body_most_common = Counter(\" \".join(body).split()).most_common(15) #split the words, separate by space '_' and get the top 15 most common words.\n",
    "body_mc_word = [body_most_common[i][0] for i in range(len(body_most_common))] #Extract the word\n",
    "body_mc_freq = [body_most_common[i][1] for i in range(len(body_most_common))] #Extract the frequency"
   ]
  },
  {
   "cell_type": "code",
   "execution_count": 19,
   "metadata": {},
   "outputs": [
    {
     "data": {
      "image/png": "[encoded data removed]",
      "text/plain": [
       "<Figure size 504x504 with 1 Axes>"
      ]
     },
     "metadata": {
      "needs_background": "light"
     },
     "output_type": "display_data"
    }
   ],
   "source": [
    "plt.figure(figsize = (7,7))\n",
    "plt.barh(body_mc_word, body_mc_freq)\n",
    "plt.xlabel('Frequency')\n",
    "plt.ylabel('Words')\n",
    "plt.title(\"Top 15 most common words in Review_body\")\n",
    "plt.show()"
   ]
  },
  {
   "cell_type": "markdown",
   "metadata": {},
   "source": [
    "Beside some obvious words like 'movie' or 'film'... We can see that 'time', 'help', 'charact' are one of the most frequent words in a review. It can give us a hint of what reviewers want to talk about."
   ]
  },
  {
   "cell_type": "markdown",
   "metadata": {},
   "source": [
    "### 2.3. Balance classes"
   ]
  },
  {
   "cell_type": "markdown",
   "metadata": {},
   "source": [
    "As mentioned before, our data is heavily imbalance with class 1 and 10 take a majority.  \n",
    "After some research and experiment, I decided to use down-sampling with imblearn library. As even after down-sampling, we can still maintain around 25k data points, which is enough for NPL modeling."
   ]
  },
  {
   "cell_type": "code",
   "execution_count": 20,
   "metadata": {},
   "outputs": [],
   "source": [
    "#First we will need to define our feature and target columns\n",
    "X = df_raw[['Review_body']] #We will using only review_body as the feature\n",
    "y = df_raw['Review_rating'] #Our target is the rating"
   ]
  },
  {
   "cell_type": "code",
   "execution_count": 21,
   "metadata": {},
   "outputs": [],
   "source": [
    "#Then using imblearn to downsampling\n",
    "sampling_strategy = \"not minority\" #Chose to downsampling every classes except the minority class (4 in our case)\n",
    "#Instantiate the model\n",
    "rus = RandomUnderSampler(sampling_strategy=sampling_strategy)\n",
    "#fit/resampling\n",
    "X_res, y_res = rus.fit_resample(X, y)"
   ]
  },
  {
   "cell_type": "markdown",
   "metadata": {},
   "source": [
    "Then we can check the distribution of our resampled data:"
   ]
  },
  {
   "cell_type": "code",
   "execution_count": 22,
   "metadata": {},
   "outputs": [
    {
     "data": {
      "image/png": "[encoded data removed]",
      "text/plain": [
       "<Figure size 576x432 with 1 Axes>"
      ]
     },
     "metadata": {
      "needs_background": "light"
     },
     "output_type": "display_data"
    }
   ],
   "source": [
    "plt.figure(figsize = (8,6))\n",
    "sns.countplot(y_res, color = 'tab:blue')\n",
    "plt.title('Distribution of Rating Score after resampling')\n",
    "plt.show()"
   ]
  },
  {
   "cell_type": "markdown",
   "metadata": {},
   "source": [
    "We can then combine them back to a cleaned dataframe, ready for our modeling step."
   ]
  },
  {
   "cell_type": "code",
   "execution_count": 23,
   "metadata": {},
   "outputs": [
    {
     "data": {
      "text/html": [
       "<div>\n",
       "<style scoped>\n",
       "    .dataframe tbody tr th:only-of-type {\n",
       "        vertical-align: middle;\n",
       "    }\n",
       "\n",
       "    .dataframe tbody tr th {\n",
       "        vertical-align: top;\n",
       "    }\n",
       "\n",
       "    .dataframe thead th {\n",
       "        text-align: right;\n",
       "    }\n",
       "</style>\n",
       "<table border=\"1\" class=\"dataframe\">\n",
       "  <thead>\n",
       "    <tr style=\"text-align: right;\">\n",
       "      <th></th>\n",
       "      <th>Review_body</th>\n",
       "      <th>Review_rating</th>\n",
       "    </tr>\n",
       "  </thead>\n",
       "  <tbody>\n",
       "    <tr>\n",
       "      <th>0</th>\n",
       "      <td>I watched this movie and all I can say is........</td>\n",
       "      <td>1</td>\n",
       "    </tr>\n",
       "    <tr>\n",
       "      <th>1</th>\n",
       "      <td>Seriously, not even a good way to waste 90 min...</td>\n",
       "      <td>1</td>\n",
       "    </tr>\n",
       "    <tr>\n",
       "      <th>2</th>\n",
       "      <td>This film is completely overrated. Having seen...</td>\n",
       "      <td>1</td>\n",
       "    </tr>\n",
       "    <tr>\n",
       "      <th>3</th>\n",
       "      <td>It is just a rubbish movie specially made to h...</td>\n",
       "      <td>1</td>\n",
       "    </tr>\n",
       "    <tr>\n",
       "      <th>4</th>\n",
       "      <td>In this film they manipulated the history of G...</td>\n",
       "      <td>1</td>\n",
       "    </tr>\n",
       "    <tr>\n",
       "      <th>...</th>\n",
       "      <td>...</td>\n",
       "      <td>...</td>\n",
       "    </tr>\n",
       "    <tr>\n",
       "      <th>24875</th>\n",
       "      <td>First things first, Nolan had redefined \"Batma...</td>\n",
       "      <td>10</td>\n",
       "    </tr>\n",
       "    <tr>\n",
       "      <th>24876</th>\n",
       "      <td>The epic is one of movies most profitable and ...</td>\n",
       "      <td>10</td>\n",
       "    </tr>\n",
       "    <tr>\n",
       "      <th>24877</th>\n",
       "      <td>I am gonna be real, but this was of my best mo...</td>\n",
       "      <td>10</td>\n",
       "    </tr>\n",
       "    <tr>\n",
       "      <th>24878</th>\n",
       "      <td>It's the best film ever! There is no moment wi...</td>\n",
       "      <td>10</td>\n",
       "    </tr>\n",
       "    <tr>\n",
       "      <th>24879</th>\n",
       "      <td>Some claim that Star Wars is nothing more than...</td>\n",
       "      <td>10</td>\n",
       "    </tr>\n",
       "  </tbody>\n",
       "</table>\n",
       "<p>24880 rows × 2 columns</p>\n",
       "</div>"
      ],
      "text/plain": [
       "                                             Review_body  Review_rating\n",
       "0      I watched this movie and all I can say is........              1\n",
       "1      Seriously, not even a good way to waste 90 min...              1\n",
       "2      This film is completely overrated. Having seen...              1\n",
       "3      It is just a rubbish movie specially made to h...              1\n",
       "4      In this film they manipulated the history of G...              1\n",
       "...                                                  ...            ...\n",
       "24875  First things first, Nolan had redefined \"Batma...             10\n",
       "24876  The epic is one of movies most profitable and ...             10\n",
       "24877  I am gonna be real, but this was of my best mo...             10\n",
       "24878  It's the best film ever! There is no moment wi...             10\n",
       "24879  Some claim that Star Wars is nothing more than...             10\n",
       "\n",
       "[24880 rows x 2 columns]"
      ]
     },
     "execution_count": 23,
     "metadata": {},
     "output_type": "execute_result"
    }
   ],
   "source": [
    "#Combine X_res and y_res into cleaned dataframe\n",
    "df= X_res.copy()\n",
    "df['Review_rating'] = y_res\n",
    "df.head()"
   ]
  },
  {
   "cell_type": "markdown",
   "metadata": {},
   "source": [
    "Then we can write them back to a csv file. \n",
    "As we will use Google Colab to take advantage of its GPU, we will upload this clean `csv` file to Amazon S3 for easy access."
   ]
  },
  {
   "cell_type": "code",
   "execution_count": 24,
   "metadata": {},
   "outputs": [],
   "source": [
    "#Write down cleaned df to csv file\n",
    "df.to_csv('Data/review_cleaned_final.csv', \n",
    "          index = False) # Chose to ignore index when writing to file"
   ]
  },
  {
   "cell_type": "markdown",
   "metadata": {},
   "source": [
    "The modeling part will be continued in the next notebook: `Part3_modeling`"
   ]
  }
 ],
 "metadata": {
  "kernelspec": {
   "display_name": "Python 3",
   "language": "python",
   "name": "python3"
  },
  "language_info": {
   "codemirror_mode": {
    "name": "ipython",
    "version": 3
   },
   "file_extension": ".py",
   "mimetype": "text/x-python",
   "name": "python",
   "nbconvert_exporter": "python",
   "pygments_lexer": "ipython3",
   "version": "3.8.5"
  },
  "toc-autonumbering": false
 },
 "nbformat": 4,
 "nbformat_minor": 4
}
